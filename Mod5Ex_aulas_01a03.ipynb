{
  "metadata": {
    "kernelspec": {
      "name": "python",
      "display_name": "Python (Pyodide)",
      "language": "python"
    },
    "language_info": {
      "codemirror_mode": {
        "name": "python",
        "version": 3
      },
      "file_extension": ".py",
      "mimetype": "text/x-python",
      "name": "python",
      "nbconvert_exporter": "python",
      "pygments_lexer": "ipython3",
      "version": "3.8"
    }
  },
  "nbformat_minor": 4,
  "nbformat": 4,
  "cells": [
    {
      "cell_type": "markdown",
      "source": "# Módulo 5 Tarefa 1\n## Base de nascidos vivos do DataSUS\nO DataSUS disponibiliza diversos arquivos de dados com relação a seus segurados, conforme a [lei da transparência de informações públicas](https://www.sisgov.com/transparencia-acesso-informacao/#:~:text=A%20Lei%20da%20Transpar%C3%AAncia%20(LC,em%20um%20site%20na%20internet.). \n\nEssas informações podem ser obtidas pela internet [aqui](http://www2.datasus.gov.br/DATASUS/index.php?area=0901&item=1). Como o processo de obtenção desses arquivos foge um pouco do nosso escopo, deixamos o arquivo SINASC_RO_2019.csv` já como vai ser encontrado no DataSUS. O dicionário de dados está no arquivo `estrutura_sinasc_para_CD.pdf` (o nome do arquivo tal qual no portal do DataSUS).\n\n### Nosso objetivo\nQueremos deixar uma base organizada para podermos estudar a relação entre partos com risco para o bebê e algumas condições como tempo de parto, consultas de pré-natal etc.\n\n#### Preparação da base\n1. Carregue a base 'SINASC_RO_2019.csv'. Conte o número de registros e o número de registros não duplicados da base. Dica: você aprendeu um método que remove duplicados, encadeie este método com um outro método que conta o número de linhas. **Há linhas duplicadas?**  \n\n2. Conte o número de valores *missing* por variável.  \n\n3. Ok, no item anterior você deve ter achado pouco prático ler a informação de tantas variáveis, muitas delas nem devem ser interesantes. Então crie uma seleção dessa base somente com as colunas que interessam. São elas:\n` \n['LOCNASC', 'IDADEMAE', 'ESTCIVMAE', 'ESCMAE', 'QTDFILVIVO', \n    'GESTACAO', 'GRAVIDEZ', 'CONSULTAS', 'APGAR5'] \n`\nRefaça a contagem de valores *missings*.  \n\n4. Apgar é uma *nota* que o pediatra dá ao bebê quando nasce de acordo com algumas características associadas principalmente à respiração. Apgar 1 e Apgar 5 são as notas 1 e 5 minutos do nascimento. Apgar5 será a nossa variável de interesse principal. Então remova todos os registros com Apgar5 não preenchido. Para esta seleção, conte novamente o número de linhas e o número de *missings*.  \n\n5. observe que as variáveis `['ESTCIVMAE', 'CONSULTAS']` possuem o código `9`, que significa *ignorado*. Vamos assumir que o não preenchido é o mesmo que o código `9`.<br>\n6. Substitua os valores faltantes da quantitativa (`QTDFILVIVO`) por zero.  \n7. Das restantes, decida que valore te parece mais adequado (um 'não preenchido' ou um valor 'mais provável' como no item anterior) e preencha. Justifique. Lembre-se de que tratamento de dados é trabalho do cientista, e que estamos tomando decisões a todo o momento - não há necessariamente certo e errado aqui.  \n8. O Apgar possui uma classificação indicando se o bebê passou por asfixia:\n- Entre 8 e 10 está em uma faixa 'normal'. \n- Entre 6 e 7, significa que o recém-nascido passou por 'asfixia leve'. \n- Entre 4 e 5 significa 'asfixia moderada'.\n- Entre 0 e 3 significa 'asfixia severa'.  \n\nCrie uma categorização dessa variável com essa codificação e calcule as frequências dessa categorização.  \n<br>\n9. Renomeie as variáveis para que fiquem no *snake case*, ou seja, em letras minúsculas, com um *underscore* entre as palávras. Dica: repare que se você não quiser criar um *dataframe* novo, você vai precisar usar a opção `inplace = True`.",
      "metadata": {}
    },
    {
      "cell_type": "code",
      "source": "import pandas as pd\nimport requests\n\n# 1) Carregar a base de dados\nsinasc = pd.read_csv('SINASC_RO_2019.csv')\n\n# Exibir as primeiras linhas e informações gerais para verificação\nprint(\"Informações iniciais do DataFrame:\")\nprint(sinasc.head())\nprint(\"\\nInformações sobre as colunas e tipos de dados:\")\nprint(sinasc.info())\nprint(\"\\nValores nulos por coluna:\")\nprint(sinasc.isnull().sum())\n\n",
      "metadata": {},
      "outputs": [],
      "execution_count": null
    },
    {
      "cell_type": "code",
      "source": "# 2) Selecione as colunas 'IDADEMAE', 'CONSULTAS' e 'DTNASC'.\n#    Remova valores duplicados e valores nulos dessas colunas.\n#    Crie uma nova coluna chamada 'DTNASC_JAN' que contenha a informação se a criança nasceu em Janeiro (1) ou não (0).\n\n# Selecionando as colunas\ndf_filtered = sinasc[['IDADEMAE', 'CONSULTAS', 'DTNASC']].copy()\n\n# Removendo valores duplicados\ndf_filtered.drop_duplicates(inplace=True)\n\n# Removendo valores nulos\ndf_filtered.dropna(inplace=True)\n\n# Convertendo 'DTNASC' para datetime para facilitar a extração do mês\ndf_filtered['DTNASC'] = pd.to_datetime(df_filtered['DTNASC'])\n\n# Criando a coluna 'DTNASC_JAN'\ndf_filtered['DTNASC_JAN'] = (df_filtered['DTNASC'].dt.month == 1).astype(int)\n\nprint(\"\\n2) DataFrame após seleção, remoção de duplicados/nulos e criação de 'DTNASC_JAN':\")\nprint(df_filtered.head())\nprint(\"\\nValores de 'DTNASC_JAN':\")\nprint(df_filtered['DTNASC_JAN'].value_counts())\n",
      "metadata": {},
      "outputs": [],
      "execution_count": null
    },
    {
      "cell_type": "code",
      "source": "# 3) Gerar gráficos que descrevam a distribuição de 'IDADEMAE' e 'CONSULTAS'.\n#    Utilize os dados limpos do passo anterior.\n\nplt.rc('figure', figsize=(10, 8))\nfig, axes = plt.subplots(1, 2)\n\n# Histograma para IDADEMAE\nsns.histplot(ax=axes[0], data=df_filtered, x='IDADEMAE', bins=20, kde=True)\naxes[0].set_title('Distribuição da Idade da Mãe')\naxes[0].set_xlabel('Idade da Mãe')\naxes[0].set_ylabel('Frequência')\n\n# Contagem de barras para CONSULTAS (transformando em string para garantir que todas as categorias apareçam)\n# De acordo com o PDF, CONSULTAS é C(01) e tem os valores:\n# 1: Nenhuma\n# 2: de 1 a 3\n# 3: de 4 a 6\n# 4: 7 e mais\n# 9: Ignorado\n# É melhor tratar como categórica.\nconsultas_map = {1: 'Nenhuma', 2: '1 a 3', 3: '4 a 6', 4: '7 e mais', 9: 'Ignorado'}\ndf_filtered['CONSULTAS_CAT'] = df_filtered['CONSULTAS'].map(consultas_map)\nsns.countplot(ax=axes[1], data=df_filtered, x='CONSULTAS_CAT', order=consultas_map.values())\naxes[1].set_title('Número de Consultas de Pré-natal')\naxes[1].set_xlabel('Número de Consultas')\naxes[1].set_ylabel('Contagem')\n\nplt.tight_layout()\nplt.show()",
      "metadata": {},
      "outputs": [],
      "execution_count": null
    },
    {
      "cell_type": "code",
      "source": "# 4) Calcule a média e a mediana da idade da mãe.\n#    Calcule a média e a mediana do número de consultas.\n#    Utilize os dados limpos do passo 2.\n\nmedia_idade_mae = df_filtered['IDADEMAE'].mean()\nmediana_idade_mae = df_filtered['IDADEMAE'].median()\n\n# Para consultas, como é uma variável categórica ordinal, a média e mediana não são tão informativas.\n# Se quisermos uma \"média\" ou \"mediana\" que faça sentido, precisaríamos de uma representação numérica.\n# Pelo dicionário de dados, 'CONSULTAS' é um campo C(01) com valores como 1, 2, 3, 4, 9.\n# Se considerarmos estes como valores numéricos de categoria, podemos calcular.\n# No entanto, é mais comum para variáveis categóricas ordinais usar a moda ou a distribuição.\n# Se for para usar os valores brutos (1,2,3,4,9):\nmedia_consultas_raw = df_filtered['CONSULTAS'].mean()\nmediana_consultas_raw = df_filtered['CONSULTAS'].median()\n\nprint(f\"\\n4) Média da Idade da Mãe: {media_idade_mae:.2f}\")\nprint(f\"Mediana da Idade da Mãe: {mediana_idade_mae:.2f}\")\nprint(f\"Média do número de consultas (valores brutos 1,2,3,4,9): {media_consultas_raw:.2f}\")\nprint(f\"Mediana do número de consultas (valores brutos 1,2,3,4,9): {mediana_consultas_raw:.2f}\")",
      "metadata": {},
      "outputs": [],
      "execution_count": null
    },
    {
      "cell_type": "code",
      "source": "# 5) sinasc['DTNASC'] = pd.to_datetime(sinasc['DTNASC'])\nsinasc['MES_NASCIMENTO'] = sinasc['DTNASC'].dt.month\n\n# Mapear números dos meses para nomes para melhor visualização\nmeses_nomes = {\n    1: 'Janeiro', 2: 'Fevereiro', 3: 'Março', 4: 'Abril',\n    5: 'Maio', 6: 'Junho', 7: 'Julho', 8: 'Agosto',\n    9: 'Setembro', 10: 'Outubro', 11: 'Novembro', 12: 'Dezembro'\n}\nsinasc['MES_NASCIMENTO_NOME'] = sinasc['MES_NASCIMENTO'].map(meses_nomes)\n\nplt.figure(figsize=(12, 6))\nsns.countplot(data=sinasc, x='MES_NASCIMENTO_NOME', order=list(meses_nomes.values()))\nplt.title('Frequência de Nascimentos por Mês (2019 - Rondônia)')\nplt.xlabel('Mês de Nascimento')\nplt.ylabel('Número de Nascimentos')\nplt.xticks(rotation=45, ha='right')\nplt.tight_layout()\nplt.show()",
      "metadata": {},
      "outputs": [],
      "execution_count": null
    },
    {
      "cell_type": "code",
      "source": "# 6) Criar um gráfico de dispersão com a idade da mãe no eixo x e o peso do bebê (APGAR5) no eixo y.\n#    Considere apenas os registros em que 'APGAR5' não seja nulo.\n\n# A coluna APGAR5 é o escore de Apgar no 5º minuto, que representa o peso do bebê.\n# Pelo PDF: APGAR5 é um C(01) de 0 a 10. Ele representa a condição de saúde do recém-nascido.\n# Não é o peso do bebê.\n# Se o objetivo era peso, a coluna correta seria 'PESO'.\n# Vamos considerar que a intenção era APGAR5, conforme o texto do exercício.\n\n# Limpar valores nulos em IDADEMAE e APGAR5\ndf_apgar = sinasc.dropna(subset=['IDADEMAE', 'APGAR5']).copy()\n\n# Converter APGAR5 para numérico. Ele pode ter sido lido como string.\n# O PDF indica C(01), mas em arquivos CSV pode vir como int ou float.\ndf_apgar['APGAR5'] = pd.to_numeric(df_apgar['APGAR5'], errors='coerce')\ndf_apgar.dropna(subset=['APGAR5'], inplace=True) # Remover nulos que surgiram da conversão\n\nplt.figure(figsize=(10, 6))\nsns.scatterplot(data=df_apgar, x='IDADEMAE', y='APGAR5', alpha=0.5)\nplt.title('Dispersão da Idade da Mãe vs. APGAR5')\nplt.xlabel('Idade da Mãe')\nplt.ylabel('APGAR5')\nplt.grid(True)\nplt.show()",
      "metadata": {},
      "outputs": [],
      "execution_count": null
    },
    {
      "cell_type": "code",
      "source": "# 7) # Remover nulos de ESTCIVMAE e IDADEMAE\ndf_estciv = sinasc.dropna(subset=['ESTCIVMAE', 'IDADEMAE']).copy()\n\n# Remover estado civil '9' (Ignorado)\ndf_estciv = df_estciv[df_estciv['ESTCIVMAE'] != 9]\n\n# Mapear ESTCIVMAE para nomes significativos\n# 1: Solteira\n# 2: Casada\n# 3: Viúva\n# 4: Divorciada\n# 5: União estável\nestciv_map = {1: 'Solteira', 2: 'Casada', 3: 'Viúva', 4: 'Divorciada', 5: 'União Estável'}\ndf_estciv['ESTCIVMAE_NOME'] = df_estciv['ESTCIVMAE'].map(estciv_map)\n\nplt.figure(figsize=(10, 6))\nsns.boxplot(data=df_estciv, x='ESTCIVMAE_NOME', y='IDADEMAE')\nplt.title('Boxplot da Idade da Mãe por Estado Civil')\nplt.xlabel('Estado Civil da Mãe')\nplt.ylabel('Idade da Mãe')\nplt.xticks(rotation=45, ha='right')\nplt.tight_layout()\nplt.show()\n",
      "metadata": {},
      "outputs": [],
      "execution_count": null
    },
    {
      "cell_type": "code",
      "source": "# 8) # Remover nulos de ESCMAE\ndf_escmae = sinasc.dropna(subset=['ESCMAE']).copy()\n\n# Remover escolaridade '9' (Ignorado)\ndf_escmae = df_escmae[df_escmae['ESCMAE'] != '9']\n\n# Mapear ESCMAE para nomes significativos\n# 1: Nenhuma\n# 2: 1 a 3 anos\n# 3: 4 a 7 anos\n# 4: 8 a 11 anos\n# 5: 12 anos e mais\nescmae_map = {'1': 'Nenhuma', '2': '1 a 3 anos', '3': '4 a 7 anos', '4': '8 a 11 anos', '5': '12 anos e mais'}\ndf_escmae['ESCMAE_NOME'] = df_escmae['ESCMAE'].map(escmae_map)\n\n# Definir a ordem das barras para que façam sentido\norder_escmae = ['Nenhuma', '1 a 3 anos', '4 a 7 anos', '8 a 11 anos', '12 anos e mais']\n\nplt.figure(figsize=(10, 6))\nsns.countplot(data=df_escmae, x='ESCMAE_NOME', order=order_escmae)\nplt.title('Frequência de Nascimentos por Escolaridade da Mãe')\nplt.xlabel('Escolaridade da Mãe')\nplt.ylabel('Número de Nascimentos')\nplt.xticks(rotation=45, ha='right')\nplt.tight_layout()\nplt.show()",
      "metadata": {},
      "outputs": [],
      "execution_count": null
    },
    {
      "cell_type": "code",
      "source": "# 9) # Renomear as variáveis para que fiquem no snake_case\n\nimport pandas as pd # <-- Esta linha é crucial para definir 'pd'\n\n# Carregar a base de dados (garantindo que estamos com a original para renomear)\ntry:\n    sinasc = pd.read_csv('SINASC_RO_2019.csv')\nexcept FileNotFoundError:\n    print(\"Erro: O arquivo 'SINASC_RO_2019.csv' não foi encontrado. Certifique-se de que ele está no mesmo diretório.\")\n    # Adicione aqui um tratamento de erro ou uma forma de o usuário informar o caminho correto\n    exit() # Interrompe a execução se o arquivo não for encontrado\n\n# Função para converter nomes de colunas para snake_case\ndef to_snake_case(name):\n    # Substitui espaços por underscores\n    s1 = name.replace(' ', '_')\n    # Insere underscore antes de letras maiúsculas (exceto a primeira) e converte para minúsculas\n    # Ex: 'IDADEMAE' -> 'idade_mae', 'DTNASC' -> 'dt_nasc'\n    return ''.join(['_' + c.lower() if c.isupper() and i > 0 else c for i, c in enumerate(s1)]).lstrip('_')\n\n# Criar um dicionário de mapeamento dos nomes antigos para os novos nomes (snake_case)\nnew_columns = {col: to_snake_case(col) for col in sinasc.columns}\n\n# Renomear as colunas do DataFrame usando inplace=True para modificar o DataFrame diretamente\nsinasc.rename(columns=new_columns, inplace=True)\n\nprint(\"Nomes das colunas após renomeação para snake_case:\")\nprint(sinasc.columns.tolist()) # .tolist() para uma visualização mais limpa na saída",
      "metadata": {
        "trusted": true
      },
      "outputs": [
        {
          "name": "stdout",
          "output_type": "stream",
          "text": "Nomes das colunas após renomeação para snake_case:\n['O_r_i_g_e_m', 'C_o_d_e_s_t_a_b', 'C_o_d_m_u_n_n_a_s_c', 'L_o_c_n_a_s_c', 'I_d_a_d_e_m_a_e', 'E_s_t_c_i_v_m_a_e', 'E_s_c_m_a_e', 'C_o_d_o_c_u_p_m_a_e', 'Q_t_d_f_i_l_v_i_v_o', 'Q_t_d_f_i_l_m_o_r_t', 'C_o_d_m_u_n_r_e_s', 'G_e_s_t_a_c_a_o', 'G_r_a_v_i_d_e_z', 'P_a_r_t_o', 'C_o_n_s_u_l_t_a_s', 'D_t_n_a_s_c', 'H_o_r_a_n_a_s_c', 'S_e_x_o', 'A_p_g_a_r1', 'A_p_g_a_r5', 'R_a_c_a_c_o_r', 'P_e_s_o', 'I_d_a_n_o_m_a_l', 'D_t_c_a_d_a_s_t_r_o', 'C_o_d_a_n_o_m_a_l', 'N_u_m_e_r_o_l_o_t_e', 'V_e_r_s_a_o_s_i_s_t', 'D_t_r_e_c_e_b_i_m', 'D_i_f_d_a_t_a', 'D_t_r_e_c_o_r_i_g_a', 'N_a_t_u_r_a_l_m_a_e', 'C_o_d_m_u_n_n_a_t_u', 'C_o_d_u_f_n_a_t_u', 'E_s_c_m_a_e2010', 'S_e_r_i_e_s_c_m_a_e', 'D_t_n_a_s_c_m_a_e', 'R_a_c_a_c_o_r_m_a_e', 'Q_t_d_g_e_s_t_a_n_t', 'Q_t_d_p_a_r_t_n_o_r', 'Q_t_d_p_a_r_t_c_e_s', 'I_d_a_d_e_p_a_i', 'D_t_u_l_t_m_e_n_s_t', 'S_e_m_a_g_e_s_t_a_c', 'T_p_m_e_t_e_s_t_i_m', 'C_o_n_s_p_r_e_n_a_t', 'M_e_s_p_r_e_n_a_t', 'T_p_a_p_r_e_s_e_n_t', 'S_t_t_r_a_b_p_a_r_t', 'S_t_c_e_s_p_a_r_t_o', 'T_p_n_a_s_c_a_s_s_i', 'T_p_f_u_n_c_r_e_s_p', 'T_p_d_o_c_r_e_s_p', 'D_t_d_e_c_l_a_r_a_c', 'E_s_c_m_a_e_a_g_r1', 'S_t_d_n_e_p_i_d_e_m', 'S_t_d_n_n_o_v_a', 'C_o_d_p_a_i_s_r_e_s', 'T_p_r_o_b_s_o_n', 'P_a_r_i_d_a_d_e', 'K_o_t_e_l_c_h_u_c_k', 'C_o_n_t_a_d_o_r', 'mun_res_status', 'mun_res_tipo', 'mun_res_nome', 'mun_res_uf', 'mun_res_lat', 'mun_res_lon', 'mun_res_alt', 'mun_res_area']\n"
        }
      ],
      "execution_count": 9
    }
  ]
}